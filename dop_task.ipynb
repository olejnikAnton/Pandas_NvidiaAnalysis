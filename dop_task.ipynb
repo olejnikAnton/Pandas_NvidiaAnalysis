{
 "cells": [
  {
   "cell_type": "code",
   "execution_count": 1,
   "id": "9d5d2d38",
   "metadata": {},
   "outputs": [],
   "source": [
    "import pandas as pd\n",
    "data = pd.read_csv(\"1.5.1.csv\", sep=\",\")\n",
    "df = pd.DataFrame(data)"
   ]
  },
  {
   "cell_type": "markdown",
   "id": "7de88b2e",
   "metadata": {},
   "source": [
    "\n",
    "    Найдите продукт, который чаще всего продавался в регионе \"Запад\" в 2023 году\n",
    "    День недели, в который было совершено больше всего продаж.\n",
    "    День-рекордсмен по продажам.\n"
   ]
  },
  {
   "cell_type": "code",
   "execution_count": 5,
   "id": "9c61ee4a",
   "metadata": {},
   "outputs": [
    {
     "data": {
      "text/plain": [
       "'Product A'"
      ]
     },
     "execution_count": 5,
     "metadata": {},
     "output_type": "execute_result"
    }
   ],
   "source": [
    "df['Date'] = pd.to_datetime(df['Date'], errors='coerce')\n",
    "west_df = df[(df['Region'] == 'West') & (df['Date'].dt.year == 2023)]\n",
    "product_sales_west = west_df.groupby('Product')['SalesCount'].sum()\n",
    "most_sold_product = product_sales_west.idxmax()\n",
    "most_sold_product"
   ]
  },
  {
   "cell_type": "code",
   "execution_count": 6,
   "id": "25461278",
   "metadata": {},
   "outputs": [
    {
     "data": {
      "text/plain": [
       "'Saturday'"
      ]
     },
     "execution_count": 6,
     "metadata": {},
     "output_type": "execute_result"
    }
   ],
   "source": [
    "df['DayOfWeek'] = df['Date'].dt.day_name()\n",
    "sales_by_day = df.groupby('DayOfWeek')['SalesCount'].sum()\n",
    "top_day = sales_by_day.idxmax()\n",
    "top_day"
   ]
  },
  {
   "cell_type": "code",
   "execution_count": 8,
   "id": "97f3a044",
   "metadata": {},
   "outputs": [
    {
     "data": {
      "text/plain": [
       "Timestamp('2023-01-13 00:00:00')"
      ]
     },
     "execution_count": 8,
     "metadata": {},
     "output_type": "execute_result"
    }
   ],
   "source": [
    "daily_sales = df.groupby('Date')['SalesCount'].sum()\n",
    "record_day = daily_sales.idxmax()\n",
    "record_day"
   ]
  }
 ],
 "metadata": {
  "kernelspec": {
   "display_name": "venv",
   "language": "python",
   "name": "python3"
  },
  "language_info": {
   "codemirror_mode": {
    "name": "ipython",
    "version": 3
   },
   "file_extension": ".py",
   "mimetype": "text/x-python",
   "name": "python",
   "nbconvert_exporter": "python",
   "pygments_lexer": "ipython3",
   "version": "3.13.5"
  }
 },
 "nbformat": 4,
 "nbformat_minor": 5
}
