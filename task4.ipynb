{
 "cells": [
  {
   "cell_type": "markdown",
   "id": "3ff185e6",
   "metadata": {},
   "source": [
    "HR-менеджер решил провести анализ вакансий на рынке труда. Он попросил отдел разработки собрать информацию из доступных интернет-источников и получил от них csv-таблицу, в которой значения разделены запятой.\n",
    "\n",
    "Первая строка файла содержит имена полей: Occupation, Company, City, Min_salary, Max_salary, Experience, Date\n",
    "\n",
    "Пример строки файла:\n",
    "1001,Python Developer,TechCorp,Москва,120000,200000,5,2024-03-15\n",
    "\n",
    "Чтобы получить точный результат, HR-менеджер решил не учитывать строки, в которых:\n",
    "\n",
    "    пропущены значения в любых полях, кроме полей минимальной и максимальной зарплаты\n",
    "    минимальная зарплата указана больше максимальной\n",
    "\n",
    "Если значение пропущено в полях с минимальной/максимальной зарплатой, то пропущенное значение заполняется существующим значением максимальной/минимальной зарплаты.\n",
    "\n",
    "Среднюю зарплату HR-менеджер посчитал за среднее арифметическое между минимальной и максимальной зарплатой.\n",
    "\n",
    "HR-менеджер разделил вакансии на группы по опыту работы. Опыт работы разбит на категории: 0-1, 2-3, 4-5, 6-7, 8-9 лет. Примеры групп: первая — 0 ≤ опыт ≤ 1, вторая — 2 ≤ опыт ≤ 3.\n",
    "\n",
    "\n",
    "Через пробел выпишите номера групп по опыту работы:\n",
    "\n",
    "    С максимальным среди других групп минимальным значением средней зарплаты\n",
    "    С медианным среди других групп значением среднего средней зарплаты\n",
    "    С наибольшим среди других групп значением медианы средней зарплаты\n"
   ]
  },
  {
   "cell_type": "code",
   "execution_count": null,
   "id": "906205dc",
   "metadata": {},
   "outputs": [
    {
     "name": "stdout",
     "output_type": "stream",
     "text": [
      "Размер исходного DataFrame: (800, 7)\n",
      "Размер очищенного DataFrame: (631, 7)\n",
      "Occupation     object\n",
      "Company        object\n",
      "City           object\n",
      "Min_salary    float64\n",
      "Max_salary    float64\n",
      "Experience    float64\n",
      "Date           object\n",
      "avg_salary    float64\n",
      "dtype: object\n",
      "                min           mean    median\n",
      "Exp_group                                   \n",
      "1           84000.0  180562.500000  156250.0\n",
      "2           75000.0  165207.943925  145250.0\n",
      "3           71000.0  169947.368421  147750.0\n",
      "4          101500.0  163601.449275  141500.0\n",
      "5           98000.0  178201.923077  161000.0\n"
     ]
    },
    {
     "name": "stderr",
     "output_type": "stream",
     "text": [
      "C:\\Users\\toha0\\AppData\\Local\\Temp\\ipykernel_16740\\2097332275.py:5: SettingWithCopyWarning: \n",
      "A value is trying to be set on a copy of a slice from a DataFrame.\n",
      "Try using .loc[row_indexer,col_indexer] = value instead\n",
      "\n",
      "See the caveats in the documentation: https://pandas.pydata.org/pandas-docs/stable/user_guide/indexing.html#returning-a-view-versus-a-copy\n",
      "  df_cleaned['Experience'] = pd.to_numeric(df_cleaned['Experience'], errors='coerce')\n",
      "C:\\Users\\toha0\\AppData\\Local\\Temp\\ipykernel_16740\\2097332275.py:19: FutureWarning: The default of observed=False is deprecated and will be changed to True in a future version of pandas. Pass observed=False to retain current behavior or observed=True to adopt the future default and silence this warning.\n",
      "  grouped = df_new.groupby('Exp_group')['avg_salary']\n"
     ]
    }
   ],
   "source": [
    "import pandas as pd\n",
    "data = pd.read_csv(\"4.4.2.csv\", sep=\",\")\n",
    "df = pd.DataFrame(data)\n",
    "df_cleaned = df.dropna(subset=[\"Occupation\", \"Company\", \"City\", \"Experience\", \"Date\"])\n",
    "df_cleaned = df_cleaned[df_cleaned[\"Min_salary\"] <= df_cleaned[\"Max_salary\"]]\n",
    "print(\"Размер исходного DataFrame:\", df.shape)\n",
    "print(\"Размер очищенного DataFrame:\", df_cleaned.shape)\n",
    "df_cleaned['Min_salary'] = df_cleaned['Min_salary'].fillna(df_cleaned['Max_salary'])\n",
    "df_cleaned['Max_salary'] = df_cleaned['Max_salary'].fillna(df_cleaned['Min_salary'])\n",
    "df_new = df_cleaned.assign(avg_salary = (df_cleaned['Min_salary'] + df_cleaned['Max_salary'])/2)\n",
    "print(df_new.dtypes)\n",
    "df_new.info\n",
    "bins = [0, 1, 3, 5, 7, 9]\n",
    "labels = [\"1\", \"2\", \"3\", \"4\", \"5\"]\n",
    "\n",
    "df_new[\"Exp_group\"] = pd.cut(df_new[\"Experience\"], bins=bins, labels=labels, right=True)\n",
    "grouped = df_new.groupby('Exp_group')['avg_salary']\n",
    "stats = grouped.agg(['min', 'mean', 'median'])\n",
    "\n",
    "print(stats)"
   ]
  },
  {
   "cell_type": "code",
   "execution_count": null,
   "id": "10a11c22",
   "metadata": {},
   "outputs": [],
   "source": [
    "    "
   ]
  }
 ],
 "metadata": {
  "kernelspec": {
   "display_name": "venv",
   "language": "python",
   "name": "python3"
  },
  "language_info": {
   "codemirror_mode": {
    "name": "ipython",
    "version": 3
   },
   "file_extension": ".py",
   "mimetype": "text/x-python",
   "name": "python",
   "nbconvert_exporter": "python",
   "pygments_lexer": "ipython3",
   "version": "3.13.5"
  }
 },
 "nbformat": 4,
 "nbformat_minor": 5
}
