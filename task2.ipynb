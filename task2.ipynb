{
 "cells": [
  {
   "cell_type": "markdown",
   "id": "ec63ab60",
   "metadata": {},
   "source": [
    "\n",
    "    Значение 'Avg. Session Length' у человека с максимальным значением 'Time on App'\n",
    "    Коэффициент корреляции Спирмэна между столбцами 'Yearly Amount Spent' и 'Length of Membership'\n",
    "    Значение 'Length of Membership', ниже которого находится 40% всех значений \n"
   ]
  },
  {
   "cell_type": "code",
   "execution_count": 1,
   "id": "306de9fc",
   "metadata": {},
   "outputs": [],
   "source": [
    "import pandas as pd"
   ]
  },
  {
   "cell_type": "code",
   "execution_count": 8,
   "id": "b2053b83",
   "metadata": {},
   "outputs": [],
   "source": [
    "data = pd.read_csv(\"3.2.1.csv\", sep=\",\")"
   ]
  },
  {
   "cell_type": "code",
   "execution_count": 15,
   "id": "6a5dcbbe",
   "metadata": {},
   "outputs": [
    {
     "data": {
      "text/plain": [
       "Avg. Session Length    34.374258\n",
       "Name: 65, dtype: object"
      ]
     },
     "execution_count": 15,
     "metadata": {},
     "output_type": "execute_result"
    }
   ],
   "source": [
    "data.loc[data['Time on App'].idxmax(), [\"Avg. Session Length\"]]"
   ]
  },
  {
   "cell_type": "code",
   "execution_count": 18,
   "id": "59478298",
   "metadata": {},
   "outputs": [
    {
     "data": {
      "text/plain": [
       "np.float64(0.7799147996591986)"
      ]
     },
     "execution_count": 18,
     "metadata": {},
     "output_type": "execute_result"
    }
   ],
   "source": [
    "data[\"Yearly Amount Spent\"].corr(data[\"Length of Membership\"], method=\"spearman\")"
   ]
  },
  {
   "cell_type": "code",
   "execution_count": 20,
   "id": "00fd7cbd",
   "metadata": {},
   "outputs": [
    {
     "data": {
      "text/plain": [
       "np.float64(3.315968748387908)"
      ]
     },
     "execution_count": 20,
     "metadata": {},
     "output_type": "execute_result"
    }
   ],
   "source": [
    "data[\"Length of Membership\"].quantile(0.40)"
   ]
  },
  {
   "cell_type": "code",
   "execution_count": null,
   "id": "a7d7d4de",
   "metadata": {},
   "outputs": [],
   "source": []
  },
  {
   "cell_type": "code",
   "execution_count": null,
   "id": "c01d2c75",
   "metadata": {},
   "outputs": [],
   "source": []
  }
 ],
 "metadata": {
  "kernelspec": {
   "display_name": "venv",
   "language": "python",
   "name": "python3"
  },
  "language_info": {
   "codemirror_mode": {
    "name": "ipython",
    "version": 3
   },
   "file_extension": ".py",
   "mimetype": "text/x-python",
   "name": "python",
   "nbconvert_exporter": "python",
   "pygments_lexer": "ipython3",
   "version": "3.13.5"
  }
 },
 "nbformat": 4,
 "nbformat_minor": 5
}
