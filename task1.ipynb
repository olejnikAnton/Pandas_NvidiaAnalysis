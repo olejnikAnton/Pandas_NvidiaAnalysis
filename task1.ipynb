{
 "cells": [
  {
   "cell_type": "markdown",
   "id": "996d40e3",
   "metadata": {},
   "source": [
    "\n",
    "    Каков размер датасета? Значения x и y разделите пробелом \n",
    "    Какая доля всех значений пропущена? (Округлите до сотых, в качестве разделителя используйте точку)\n",
    "    Какой самый частый тип данных у столбцов?"
   ]
  },
  {
   "cell_type": "code",
   "execution_count": 1,
   "id": "32b3df67",
   "metadata": {},
   "outputs": [],
   "source": [
    "import pandas as pd"
   ]
  },
  {
   "cell_type": "code",
   "execution_count": 7,
   "id": "a559cfca",
   "metadata": {},
   "outputs": [],
   "source": [
    "data = pd.read_csv(\"3.1.3.csv\", sep=\";\")"
   ]
  },
  {
   "cell_type": "code",
   "execution_count": 8,
   "id": "9cc57170",
   "metadata": {},
   "outputs": [
    {
     "data": {
      "text/plain": [
       "(44, 7)"
      ]
     },
     "execution_count": 8,
     "metadata": {},
     "output_type": "execute_result"
    }
   ],
   "source": [
    "data.shape"
   ]
  },
  {
   "cell_type": "code",
   "execution_count": 16,
   "id": "6feee595",
   "metadata": {},
   "outputs": [
    {
     "data": {
      "text/plain": [
       "np.float64(0.21428571428571427)"
      ]
     },
     "execution_count": 16,
     "metadata": {},
     "output_type": "execute_result"
    }
   ],
   "source": [
    "miss = data.isnull().sum().sum()\n",
    "\n",
    "total = data.size\n",
    "\n",
    "per_miss = (miss/total)\n",
    "\n",
    "per_miss"
   ]
  },
  {
   "cell_type": "code",
   "execution_count": null,
   "id": "298a1883",
   "metadata": {},
   "outputs": [
    {
     "data": {
      "text/plain": [
       "Name           object\n",
       "Gender         object\n",
       "Age           float64\n",
       "Wage          float64\n",
       "Occupation     object\n",
       "City           object\n",
       "Experience    float64\n",
       "dtype: object"
      ]
     },
     "execution_count": 15,
     "metadata": {},
     "output_type": "execute_result"
    }
   ],
   "source": [
    "data.dtypes"
   ]
  },
  {
   "cell_type": "markdown",
   "id": "29efd5d3",
   "metadata": {},
   "source": [
    "# 44 7;0.21;object"
   ]
  }
 ],
 "metadata": {
  "kernelspec": {
   "display_name": "venv",
   "language": "python",
   "name": "python3"
  },
  "language_info": {
   "codemirror_mode": {
    "name": "ipython",
    "version": 3
   },
   "file_extension": ".py",
   "mimetype": "text/x-python",
   "name": "python",
   "nbconvert_exporter": "python",
   "pygments_lexer": "ipython3",
   "version": "3.13.5"
  }
 },
 "nbformat": 4,
 "nbformat_minor": 5
}
