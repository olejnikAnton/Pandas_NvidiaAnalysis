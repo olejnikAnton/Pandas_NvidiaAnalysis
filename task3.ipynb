{
 "cells": [
  {
   "cell_type": "markdown",
   "id": "e39cfef5",
   "metadata": {},
   "source": [
    "\n",
    "    Найдите час, в который чаще всего совершались сделки. (Подсказка: из ячеек формата DateTime можно извлечь час с помощью .dt.hour; например data['Date'].dt.hour)\n",
    "    Найдите среднее, медиану и стандартное отклонение у округленных до целого значений df['Price']. Ответы округлите до десятых и выпишите их через пробел.\n",
    "    Найдите возрастную группу, представители которой чаще являются агентами, не используя фильтрацию. Возрастные группы:\n",
    "        0-35: Young\n",
    "        36-55: Middle-aged\n",
    "        56+: Senior\n"
   ]
  },
  {
   "cell_type": "code",
   "execution_count": null,
   "id": "ddb69559",
   "metadata": {},
   "outputs": [],
   "source": [
    "import pandas as pd"
   ]
  },
  {
   "cell_type": "code",
   "execution_count": 26,
   "id": "d5d13166",
   "metadata": {},
   "outputs": [],
   "source": [
    "data = pd.read_csv(\"3.3.2.csv\", sep=\";\")\n",
    "df = pd.DataFrame(data)"
   ]
  },
  {
   "cell_type": "code",
   "execution_count": 11,
   "id": "c74ebc4e",
   "metadata": {},
   "outputs": [],
   "source": [
    "data[\"Time of deal\"] = pd.to_datetime(data['Time of deal'], format='%Y-%m-%d %H:%M')"
   ]
  },
  {
   "cell_type": "code",
   "execution_count": 14,
   "id": "c47f391c",
   "metadata": {},
   "outputs": [
    {
     "name": "stdout",
     "output_type": "stream",
     "text": [
      "hour\n",
      "12    13\n",
      "9     12\n",
      "10    11\n",
      "16    10\n",
      "14     9\n",
      "11     9\n",
      "13     9\n",
      "15     9\n",
      "17     4\n",
      "Name: count, dtype: int64\n"
     ]
    }
   ],
   "source": [
    "data[\"hour\"] = data[\"Time of deal\"].dt.hour\n",
    "print(data[\"hour\"].value_counts())"
   ]
  },
  {
   "cell_type": "code",
   "execution_count": 23,
   "id": "ded850fc",
   "metadata": {},
   "outputs": [],
   "source": [
    "round_price = data['Price'].round(0)"
   ]
  },
  {
   "cell_type": "code",
   "execution_count": 34,
   "id": "bd16f32a",
   "metadata": {},
   "outputs": [
    {
     "name": "stdout",
     "output_type": "stream",
     "text": [
      "254.2, 237.5, 80.4\n"
     ]
    }
   ],
   "source": [
    "mean_val = round(round_price.mean(), 1)\n",
    "median_val = round(round_price.median(), 1)\n",
    "std_val = round(round_price.std(), 1)\n",
    "print(f\"{mean_val}, {median_val}, {std_val}\")"
   ]
  },
  {
   "cell_type": "code",
   "execution_count": null,
   "id": "d8271545",
   "metadata": {},
   "outputs": [
    {
     "name": "stderr",
     "output_type": "stream",
     "text": [
      "C:\\Users\\toha0\\AppData\\Local\\Temp\\ipykernel_10704\\3289642006.py:5: FutureWarning: The default of observed=False is deprecated and will be changed to True in a future version of pandas. Pass observed=False to retain current behavior or observed=True to adopt the future default and silence this warning.\n",
      "  count_age_groupe = df.groupby(\"Age_group\").sum()\n"
     ]
    },
    {
     "data": {
      "text/html": [
       "<div>\n",
       "<style scoped>\n",
       "    .dataframe tbody tr th:only-of-type {\n",
       "        vertical-align: middle;\n",
       "    }\n",
       "\n",
       "    .dataframe tbody tr th {\n",
       "        vertical-align: top;\n",
       "    }\n",
       "\n",
       "    .dataframe thead th {\n",
       "        text-align: right;\n",
       "    }\n",
       "</style>\n",
       "<table border=\"1\" class=\"dataframe\">\n",
       "  <thead>\n",
       "    <tr style=\"text-align: right;\">\n",
       "      <th></th>\n",
       "      <th>Agent Name</th>\n",
       "      <th>Agent age</th>\n",
       "      <th>Time of deal</th>\n",
       "      <th>Price</th>\n",
       "    </tr>\n",
       "    <tr>\n",
       "      <th>Age_group</th>\n",
       "      <th></th>\n",
       "      <th></th>\n",
       "      <th></th>\n",
       "      <th></th>\n",
       "    </tr>\n",
       "  </thead>\n",
       "  <tbody>\n",
       "    <tr>\n",
       "      <th>young</th>\n",
       "      <td>John DoeMichael JohnsonEmily DavisSophia Harri...</td>\n",
       "      <td>1008</td>\n",
       "      <td>2024-10-30 12:342024-10-30 14:122024-10-30 16:...</td>\n",
       "      <td>6945.80</td>\n",
       "    </tr>\n",
       "    <tr>\n",
       "      <th>middle-aged</th>\n",
       "      <td>Jane SmithChris WilsonSarah LewisMatthew Brown...</td>\n",
       "      <td>1691</td>\n",
       "      <td>2024-10-30 09:452024-10-30 10:252024-10-30 11:...</td>\n",
       "      <td>10886.55</td>\n",
       "    </tr>\n",
       "    <tr>\n",
       "      <th>senior</th>\n",
       "      <td>Daniel EvansBenjamin GreenJack BakerMia BellAm...</td>\n",
       "      <td>722</td>\n",
       "      <td>2024-10-30 13:452024-10-30 16:352024-10-30 12:...</td>\n",
       "      <td>4027.40</td>\n",
       "    </tr>\n",
       "  </tbody>\n",
       "</table>\n",
       "</div>"
      ],
      "text/plain": [
       "                                                    Agent Name  Agent age  \\\n",
       "Age_group                                                                   \n",
       "young        John DoeMichael JohnsonEmily DavisSophia Harri...       1008   \n",
       "middle-aged  Jane SmithChris WilsonSarah LewisMatthew Brown...       1691   \n",
       "senior       Daniel EvansBenjamin GreenJack BakerMia BellAm...        722   \n",
       "\n",
       "                                                  Time of deal     Price  \n",
       "Age_group                                                                 \n",
       "young        2024-10-30 12:342024-10-30 14:122024-10-30 16:...   6945.80  \n",
       "middle-aged  2024-10-30 09:452024-10-30 10:252024-10-30 11:...  10886.55  \n",
       "senior       2024-10-30 13:452024-10-30 16:352024-10-30 12:...   4027.40  "
      ]
     },
     "execution_count": 33,
     "metadata": {},
     "output_type": "execute_result"
    }
   ],
   "source": [
    "bins = [0, 35, 55, 120]\n",
    "labels = [\"young\", \"middle-aged\", \"senior\"]\n",
    "\n",
    "df[\"Age_group\"] = pd.cut(df[\"Agent age\"], bins=bins, labels=labels, right=True)\n",
    "count_age_groupe = df.groupby(\"Age_group\").sum()\n",
    "count_age_groupe"
   ]
  }
 ],
 "metadata": {
  "kernelspec": {
   "display_name": "venv",
   "language": "python",
   "name": "python3"
  },
  "language_info": {
   "codemirror_mode": {
    "name": "ipython",
    "version": 3
   },
   "file_extension": ".py",
   "mimetype": "text/x-python",
   "name": "python",
   "nbconvert_exporter": "python",
   "pygments_lexer": "ipython3",
   "version": "3.13.5"
  }
 },
 "nbformat": 4,
 "nbformat_minor": 5
}
